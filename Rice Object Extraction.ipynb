{
 "cells": [
  {
   "cell_type": "code",
   "execution_count": 1,
   "id": "latter-birth",
   "metadata": {},
   "outputs": [],
   "source": [
    "import cv2\n",
    "import numpy as np"
   ]
  },
  {
   "cell_type": "code",
   "execution_count": 5,
   "id": "attached-tradition",
   "metadata": {},
   "outputs": [],
   "source": [
    "image = cv2.imread('C:\\\\Users\\\\Ashutosh Shukla\\\\Downloads\\\\Image_a5_rice.tif')"
   ]
  },
  {
   "cell_type": "code",
   "execution_count": 8,
   "id": "transsexual-sight",
   "metadata": {},
   "outputs": [],
   "source": [
    "original = image.copy()\n",
    "gray = cv2.cvtColor(image, cv2.COLOR_BGR2GRAY)\n",
    "blurred = cv2.GaussianBlur(gray, (3, 3), 0)\n",
    "canny = cv2.Canny(blurred, 120, 255, 1)\n",
    "kernel = np.ones((5,5),np.uint8)\n",
    "dilate = cv2.dilate(canny, kernel, iterations=1)"
   ]
  },
  {
   "cell_type": "code",
   "execution_count": 9,
   "id": "adolescent-publisher",
   "metadata": {},
   "outputs": [],
   "source": [
    "cnts = cv2.findContours(dilate, cv2.RETR_EXTERNAL, cv2.CHAIN_APPROX_SIMPLE)\n",
    "cnts = cnts[0] if len(cnts) == 2 else cnts[1]"
   ]
  },
  {
   "cell_type": "code",
   "execution_count": 10,
   "id": "lesbian-dairy",
   "metadata": {},
   "outputs": [],
   "source": [
    "image_number = 0\n",
    "for c in cnts:\n",
    "    x,y,w,h = cv2.boundingRect(c)\n",
    "    cv2.rectangle(image, (x, y), (x + w, y + h), (36,255,12), 2)\n",
    "    ROI = original[y:y+h, x:x+w]\n",
    "    cv2.imwrite(\"ROI_{}.png\".format(image_number), ROI)\n",
    "    image_number += 1"
   ]
  },
  {
   "cell_type": "code",
   "execution_count": 11,
   "id": "combined-turkish",
   "metadata": {},
   "outputs": [
    {
     "data": {
      "text/plain": [
       "-1"
      ]
     },
     "execution_count": 11,
     "metadata": {},
     "output_type": "execute_result"
    }
   ],
   "source": [
    "cv2.imshow('canny', canny)\n",
    "cv2.imshow('image', image)\n",
    "cv2.waitKey(0)"
   ]
  },
  {
   "cell_type": "code",
   "execution_count": null,
   "id": "involved-drill",
   "metadata": {},
   "outputs": [],
   "source": []
  }
 ],
 "metadata": {
  "kernelspec": {
   "display_name": "Python 3",
   "language": "python",
   "name": "python3"
  },
  "language_info": {
   "codemirror_mode": {
    "name": "ipython",
    "version": 3
   },
   "file_extension": ".py",
   "mimetype": "text/x-python",
   "name": "python",
   "nbconvert_exporter": "python",
   "pygments_lexer": "ipython3",
   "version": "3.8.5"
  }
 },
 "nbformat": 4,
 "nbformat_minor": 5
}
