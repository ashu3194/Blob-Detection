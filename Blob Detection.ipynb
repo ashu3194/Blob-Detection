{
 "cells": [
  {
   "cell_type": "code",
   "execution_count": 1,
   "id": "official-ireland",
   "metadata": {},
   "outputs": [],
   "source": [
    "import cv2\n",
    "import numpy as np\n",
    "from matplotlib import pyplot as plt"
   ]
  },
  {
   "cell_type": "code",
   "execution_count": 2,
   "id": "stuffed-mexico",
   "metadata": {},
   "outputs": [],
   "source": [
    "img = cv2.imread('C:\\\\Users\\\\Ashutosh Shukla\\\\Downloads\\\\image_a5_blobs.tif')"
   ]
  },
  {
   "cell_type": "code",
   "execution_count": 3,
   "id": "fifth-latin",
   "metadata": {},
   "outputs": [],
   "source": [
    "gray = cv2.cvtColor(img, cv2.COLOR_BGR2GRAY)"
   ]
  },
  {
   "cell_type": "code",
   "execution_count": 4,
   "id": "involved-museum",
   "metadata": {},
   "outputs": [],
   "source": [
    "thresh = cv2.adaptiveThreshold(gray, 255, cv2.ADAPTIVE_THRESH_MEAN_C, cv2.THRESH_BINARY, 101, 3)"
   ]
  },
  {
   "cell_type": "code",
   "execution_count": 5,
   "id": "fifteen-operation",
   "metadata": {},
   "outputs": [],
   "source": [
    "kernel = cv2.getStructuringElement(cv2.MORPH_ELLIPSE, (5,5))\n",
    "blob = cv2.morphologyEx(thresh, cv2.MORPH_OPEN, kernel)\n",
    "kernel = cv2.getStructuringElement(cv2.MORPH_ELLIPSE, (9,9))\n",
    "blob = cv2.morphologyEx(blob, cv2.MORPH_CLOSE, kernel)"
   ]
  },
  {
   "cell_type": "code",
   "execution_count": 6,
   "id": "tamil-picture",
   "metadata": {},
   "outputs": [],
   "source": [
    "blob = (255 - blob)"
   ]
  },
  {
   "cell_type": "code",
   "execution_count": 7,
   "id": "streaming-truth",
   "metadata": {},
   "outputs": [],
   "source": [
    "cnts = cv2.findContours(blob, cv2.RETR_EXTERNAL, cv2.CHAIN_APPROX_SIMPLE)\n",
    "cnts = cnts[0] if len(cnts) == 2 else cnts[1]\n",
    "big_contour = max(cnts, key=cv2.contourArea)"
   ]
  },
  {
   "cell_type": "code",
   "execution_count": 8,
   "id": "helpful-title",
   "metadata": {},
   "outputs": [],
   "source": [
    "blob_area_thresh = 1000\n",
    "blob_area = cv2.contourArea(big_contour)\n",
    "if blob_area < blob_area_thresh:\n",
    "    print(\"Blob Is Too Small\")"
   ]
  },
  {
   "cell_type": "code",
   "execution_count": 9,
   "id": "excess-laptop",
   "metadata": {},
   "outputs": [
    {
     "data": {
      "text/plain": [
       "array([[[ 76,  76,  76],\n",
       "        [ 76,  76,  76],\n",
       "        [ 76,  76,  76],\n",
       "        ...,\n",
       "        [ 76,  76,  76],\n",
       "        [ 76,  76,  76],\n",
       "        [ 76,  76,  76]],\n",
       "\n",
       "       [[ 76,  76,  76],\n",
       "        [ 76,  76,  76],\n",
       "        [ 76,  76,  76],\n",
       "        ...,\n",
       "        [ 76,  76,  76],\n",
       "        [ 76,  76,  76],\n",
       "        [ 76,  76,  76]],\n",
       "\n",
       "       [[ 76,  76,  76],\n",
       "        [ 76,  76,  76],\n",
       "        [ 76,  76,  76],\n",
       "        ...,\n",
       "        [ 76,  76,  76],\n",
       "        [ 76,  76,  76],\n",
       "        [ 76,  76,  76]],\n",
       "\n",
       "       ...,\n",
       "\n",
       "       [[ 76,  76,  76],\n",
       "        [ 76,  76,  76],\n",
       "        [ 76,  76,  76],\n",
       "        ...,\n",
       "        [204, 204, 204],\n",
       "        [204, 204, 204],\n",
       "        [204, 204, 204]],\n",
       "\n",
       "       [[ 76,  76,  76],\n",
       "        [ 76,  76,  76],\n",
       "        [ 76,  76,  76],\n",
       "        ...,\n",
       "        [204, 204, 204],\n",
       "        [204, 204, 204],\n",
       "        [204, 204, 204]],\n",
       "\n",
       "       [[ 76,  76,  76],\n",
       "        [ 76,  76,  76],\n",
       "        [ 76,  76,  76],\n",
       "        ...,\n",
       "        [204, 204, 204],\n",
       "        [204, 204, 204],\n",
       "        [204, 204, 204]]], dtype=uint8)"
      ]
     },
     "execution_count": 9,
     "metadata": {},
     "output_type": "execute_result"
    }
   ],
   "source": [
    "result = img.copy()\n",
    "cv2.drawContours(result, [big_contour], -1, (0,0,255), 1)"
   ]
  },
  {
   "cell_type": "code",
   "execution_count": 10,
   "id": "lesbian-least",
   "metadata": {},
   "outputs": [
    {
     "data": {
      "text/plain": [
       "True"
      ]
     },
     "execution_count": 10,
     "metadata": {},
     "output_type": "execute_result"
    }
   ],
   "source": [
    "cv2.imwrite(\"doco3_threshold.jpg\", thresh)\n",
    "cv2.imwrite(\"doco3_blob.jpg\", blob)\n",
    "cv2.imwrite(\"doco3_contour.jpg\", result)"
   ]
  },
  {
   "cell_type": "code",
   "execution_count": null,
   "id": "abroad-title",
   "metadata": {},
   "outputs": [],
   "source": [
    "cv2.imshow(\"IMAGE\", img)\n",
    "cv2.imshow(\"THRESHOLD\", thresh)\n",
    "cv2.imshow(\"BLOB\", blob)\n",
    "cv2.imshow(\"RESULT\", result)\n",
    "cv2.waitKey(0)"
   ]
  },
  {
   "cell_type": "code",
   "execution_count": null,
   "id": "later-gibson",
   "metadata": {},
   "outputs": [],
   "source": []
  }
 ],
 "metadata": {
  "kernelspec": {
   "display_name": "Python 3",
   "language": "python",
   "name": "python3"
  },
  "language_info": {
   "codemirror_mode": {
    "name": "ipython",
    "version": 3
   },
   "file_extension": ".py",
   "mimetype": "text/x-python",
   "name": "python",
   "nbconvert_exporter": "python",
   "pygments_lexer": "ipython3",
   "version": "3.8.5"
  }
 },
 "nbformat": 4,
 "nbformat_minor": 5
}
